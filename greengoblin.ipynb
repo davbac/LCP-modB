{
 "cells": [
  {
   "cell_type": "code",
   "execution_count": null,
   "metadata": {},
   "outputs": [],
   "source": [
    "import numpy as np\n",
    "import pandas as pd\n",
    "\n",
    "import matplotlib.pyplot as plt\n",
    "plt.rcParams['font.size'] = 14"
   ]
  },
  {
   "cell_type": "code",
   "execution_count": null,
   "metadata": {},
   "outputs": [],
   "source": [
    "# select analysis to perform\n",
    "CASE = 1\n",
    "if CASE == 0: dname = 'DATA'\n",
    "if CASE == 1: dname = 'DATA_b'\n",
    "fname = dname + '/x_RBM_q0.1.dat'\n",
    "\n",
    "# loading data: each row is a list of visible units\n",
    "# NOTE: data \"x\" here is named \"v\" for \"visible\n",
    "v = np.loadtxt(fname, delimiter=' ', dtype=int)\n",
    "# store in v0, because later we will shuffle v\n",
    "v0 = np.copy(v)\n",
    "\n",
    "# convert blocks of four bits to category index\n",
    "for i in range(0, v0.shape[1], 4):\n",
    "    v0[:, i] = np.argmax(v0[:, i:(i + 4)], axis=1)\n",
    "# delete spurious columns and reverse indices to have\n",
    "# 0001 --> 1\n",
    "# 0010 --> 2\n",
    "# 0100 --> 3\n",
    "# 1000 --> 4\n",
    "v0 = 4 - v0[:, range(0, v0.shape[1], 4)]"
   ]
  }
 ],
 "metadata": {
  "kernelspec": {
   "display_name": "Python (LCP)",
   "language": "python",
   "name": "lcp"
  },
  "language_info": {
   "name": "python",
   "version": "3.10.6"
  },
  "orig_nbformat": 4
 },
 "nbformat": 4,
 "nbformat_minor": 2
}
